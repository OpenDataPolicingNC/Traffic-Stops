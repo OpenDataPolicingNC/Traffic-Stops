{
 "cells": [
  {
   "cell_type": "code",
   "execution_count": 43,
   "metadata": {
    "collapsed": false
   },
   "outputs": [],
   "source": [
    "from django.db.models import Q\n",
    "from nc.models import Agency\n"
   ]
  },
  {
   "cell_type": "code",
   "execution_count": 39,
   "metadata": {
    "collapsed": false
   },
   "outputs": [
    {
     "data": {
      "text/plain": [
       "311"
      ]
     },
     "execution_count": 39,
     "metadata": {},
     "output_type": "execute_result"
    }
   ],
   "source": [
    "Agency.objects.count()"
   ]
  },
  {
   "cell_type": "code",
   "execution_count": 41,
   "metadata": {
    "collapsed": false
   },
   "outputs": [
    {
     "data": {
      "text/plain": [
       "99"
      ]
     },
     "execution_count": 41,
     "metadata": {},
     "output_type": "execute_result"
    }
   ],
   "source": [
    "sheriff = Agency.objects.filter(name__icontains='Sheriff')\n",
    "sheriff.count()"
   ]
  },
  {
   "cell_type": "code",
   "execution_count": 26,
   "metadata": {
    "collapsed": false
   },
   "outputs": [
    {
     "data": {
      "text/plain": [
       "201"
      ]
     },
     "execution_count": 26,
     "metadata": {},
     "output_type": "execute_result"
    }
   ],
   "source": [
    "police = Agency.objects.filter(name__icontains='Police')\n",
    "police.count()"
   ]
  },
  {
   "cell_type": "code",
   "execution_count": 24,
   "metadata": {
    "collapsed": false
   },
   "outputs": [
    {
     "data": {
      "text/plain": [
       "['Brunswick Community College', 'Butner Public Safety', 'Fairmont Department of Public Safety', 'Guilford Technical Community College', 'NC Alcohol Law Enforcement', 'NC Division of Motor Vehicles, License and Theft Bureau', 'NC State Bureau of Investigation', 'NC State Highway Patrol', 'NC State Parks', 'NC Wildlife Enforcement', 'SHP - Motor Carrier Enforcement Section']"
      ]
     },
     "execution_count": 24,
     "metadata": {},
     "output_type": "execute_result"
    }
   ],
   "source": [
    "Agency.objects.exclude(name__icontains='Police').exclude(name__icontains='Sheriff').values_list('name', flat=True)"
   ]
  },
  {
   "cell_type": "code",
   "execution_count": 30,
   "metadata": {
    "collapsed": false
   },
   "outputs": [
    {
     "data": {
      "text/plain": [
       "['Aberdeen Police Department',\n",
       " 'Albemarle Police Department',\n",
       " 'Andrews Police Department',\n",
       " 'Apex Police Department',\n",
       " 'Appalachian State University Police Department',\n",
       " 'Archdale Police Department',\n",
       " 'Asheboro Police Department',\n",
       " 'Asheville Police Department',\n",
       " 'Atkinson Police Department',\n",
       " 'Atlantic Beach Police Department',\n",
       " 'Bailey Police Department',\n",
       " 'Bald Head Island Police Department',\n",
       " 'Banner Elk Police Department',\n",
       " 'Beech Mountain Police Department',\n",
       " 'Biltmore Forest Police Department',\n",
       " 'Biscoe Police Department',\n",
       " 'Blowing Rock Police Department',\n",
       " 'Boone Police Department',\n",
       " 'Broughton Hospital Police Department',\n",
       " 'Bunn Police Department',\n",
       " 'Burlington Police Department',\n",
       " 'Cameron Police Department',\n",
       " 'Candor Police Department',\n",
       " 'Carolina Beach Police Department',\n",
       " 'Carrboro Police Department',\n",
       " 'Cary Police Department',\n",
       " 'Caswell Beach Police Department',\n",
       " 'Caswell Center Hospital Police Department',\n",
       " 'Chapel Hill Police Department',\n",
       " 'Charlotte-Mecklenburg Police Department',\n",
       " \"Cherry O'Berry Hospital Police Department\",\n",
       " 'Claremont Police Department',\n",
       " 'Clayton Police Department',\n",
       " 'Cleveland Police Department',\n",
       " 'Columbus Police Department',\n",
       " 'Concord Police Department',\n",
       " 'Conover Police Department',\n",
       " 'Cornelius Police Department',\n",
       " 'Creedmoor Police Department',\n",
       " 'Davidson Police Department',\n",
       " 'DHHS Police - Black Mountain',\n",
       " 'Duck Police Department',\n",
       " 'Dunn Police Department',\n",
       " 'Durham Police Department',\n",
       " 'East Carolina University Police Department',\n",
       " 'Eden Police Department',\n",
       " 'Elizabeth City Police Department',\n",
       " 'Elizabeth City State University Police Department',\n",
       " 'Elk Park Police Department',\n",
       " 'Enfield Police Department',\n",
       " 'Fayetteville Police Department',\n",
       " 'Fayetteville State University Police Department',\n",
       " 'Fletcher Police Department',\n",
       " 'Foxfire Village Police Department',\n",
       " 'Fuquay-Varina Police Department',\n",
       " 'Garner Police Department',\n",
       " 'Gaston County Police Department',\n",
       " 'Gastonia Police Department',\n",
       " 'Goldsboro Police Department',\n",
       " 'Graham Police Department',\n",
       " 'Greensboro Police Department',\n",
       " 'Greenville Police Department',\n",
       " 'Havelock Police Department',\n",
       " 'Henderson Police Department',\n",
       " 'Hendersonville Police Department',\n",
       " 'Hickory Police Department',\n",
       " 'Highlands Police Department',\n",
       " 'High Point Police Department',\n",
       " 'Hillsborough Police Department',\n",
       " 'Holden Beach Police Department',\n",
       " 'Holly Ridge Police Department',\n",
       " 'Holly Springs Police Department',\n",
       " 'Hope Mills Police Department',\n",
       " 'Huntersville Police Department',\n",
       " 'Indian Beach Police Department',\n",
       " 'Jacksonville Police Department',\n",
       " 'Jonesville Police Department',\n",
       " 'Kannapolis Police Department',\n",
       " 'Kenansville Police Department',\n",
       " 'Kenly Police Department',\n",
       " 'Kernersville Police Department',\n",
       " 'Kings Mountain Police Department',\n",
       " 'Kinston Police Department',\n",
       " 'Kitty Hawk Police Department',\n",
       " 'Knightdale Police Department',\n",
       " 'Kure Beach Police Department',\n",
       " 'Lake Lure Police Department',\n",
       " 'Laurinburg Police Department',\n",
       " 'Leland Police Department',\n",
       " 'Lenoir Police Department',\n",
       " 'Lexington Police Department',\n",
       " 'Lincolnton Police Department',\n",
       " 'Littleton Police Department',\n",
       " 'Lumberton Police Department',\n",
       " 'Madison Police Department',\n",
       " 'Maggie Valley Police Department',\n",
       " 'Manteo Police Department',\n",
       " 'Marshall Police Department',\n",
       " 'Matthews Police Department',\n",
       " 'Mayodan Police Department',\n",
       " 'McAdenville Police Department',\n",
       " 'Mebane Police Department',\n",
       " 'Middlesex Police Department',\n",
       " 'Mint Hill Police Department',\n",
       " 'Monroe Police Department',\n",
       " 'Montreat Police Department',\n",
       " 'Mooresville Police Department',\n",
       " 'Morganton Police Department',\n",
       " 'Morrisville Police Department',\n",
       " 'Mount Airy Police Department',\n",
       " 'Mount Gilead Police Department',\n",
       " 'Mount Holly Police Department',\n",
       " 'Murfreesboro Police Department',\n",
       " 'Murphy Police Department',\n",
       " 'Nags Head Police Department',\n",
       " 'NC Arboretum Campus Police',\n",
       " 'NC A&T University Police Department',\n",
       " 'NC Central University Police Department',\n",
       " 'NC Division of Marine Fisheries Police Department',\n",
       " 'NC State Fairgrounds Police Department',\n",
       " 'NC State University Police Department',\n",
       " 'New Bern Police Department',\n",
       " 'Newland Police Department',\n",
       " 'Newton Police Department',\n",
       " 'Norlina Police Department',\n",
       " 'North Topsail Beach Police Department',\n",
       " 'North Wilkesboro Police Department',\n",
       " 'Ocean Isle Beach Police Department',\n",
       " 'Old Fort Police Department',\n",
       " 'Parkton Police Department',\n",
       " 'Pembroke Police Department',\n",
       " 'Pilot Mountain Police Department',\n",
       " 'Pinehurst Police Department',\n",
       " 'Pine Knoll Shores Police Department',\n",
       " 'Pinetops Police Department',\n",
       " 'Pineville Police Department',\n",
       " 'Pittsboro Police Department',\n",
       " 'Raleigh Police Department',\n",
       " 'Red Springs Police Department',\n",
       " 'Reidsville Police Department',\n",
       " 'Richlands Police Department',\n",
       " 'Roanoke Rapids Police Department',\n",
       " 'Robbins Police Department',\n",
       " 'Robersonville Police Department',\n",
       " 'Rocky Mount Police Department',\n",
       " 'Rolesville Police Department',\n",
       " 'Rowland Police Department',\n",
       " 'Saint Pauls Police Department',\n",
       " 'Salisbury Police Department',\n",
       " 'Saluda Police Department',\n",
       " 'Sanford Police Department',\n",
       " 'Seven Devils Police Department',\n",
       " 'Shallotte Police Department',\n",
       " 'Sharpsburg Police Department',\n",
       " 'Shelby Police Department',\n",
       " 'Smithfield Police Department',\n",
       " 'Southern Pines Police Department',\n",
       " 'Spring Lake Police Department',\n",
       " 'Spruce Pine Police Department',\n",
       " 'Stallings Police Department',\n",
       " 'Stantonsburg Police Department',\n",
       " 'Star Police Department',\n",
       " 'State Capitol Police',\n",
       " 'Statesville Police Department',\n",
       " 'Stoneville Police Department',\n",
       " 'Sugar Mountain Police Department',\n",
       " 'Sunset Beach Police Department',\n",
       " 'Surf City Police Department',\n",
       " 'Sylva Police Department',\n",
       " 'Tarboro Police Department',\n",
       " 'Taylorsville Police Department',\n",
       " 'Thomasville Police Department',\n",
       " 'Topsail Beach Police Department',\n",
       " 'Troutman Police Department',\n",
       " 'UNC Asheville University Police Department',\n",
       " 'UNC Chapel Hill University Police Department',\n",
       " 'UNC Charlotte University Police Department',\n",
       " 'UNC Greensboro University Police Department',\n",
       " 'UNC Pembroke University Police Department',\n",
       " 'UNC School of the Arts Police Department',\n",
       " 'UNC Wilmington Police Department',\n",
       " 'Vass Police Department',\n",
       " 'Village of Misenheimer Police Department',\n",
       " 'Wadesboro Police Department',\n",
       " 'Wake Forest Police Department',\n",
       " 'Walnut Creek Police Department',\n",
       " 'Warrenton Police Department',\n",
       " 'Washington Police Department',\n",
       " 'Waxhaw Police Department',\n",
       " 'Weldon Police Department',\n",
       " 'Western Carolina University Police Department',\n",
       " 'West Jefferson Police Department',\n",
       " 'White Lake Police Department',\n",
       " 'Wilkesboro Police Department',\n",
       " 'Wilmington Police Department',\n",
       " 'Wilson Police Department',\n",
       " 'Winston-Salem Police Department',\n",
       " 'Winston-Salem State University Police Department',\n",
       " 'Wrightsville Beach Police Department',\n",
       " 'Youngsville Police Department',\n",
       " 'Zebulon Police Department']"
      ]
     },
     "execution_count": 30,
     "metadata": {},
     "output_type": "execute_result"
    }
   ],
   "source": [
    "list(police.values_list('name', flat=True))"
   ]
  },
  {
   "cell_type": "code",
   "execution_count": 36,
   "metadata": {
    "collapsed": false
   },
   "outputs": [
    {
     "data": {
      "text/plain": [
       "[<Agency: DHHS Police - Black Mountain>, <Agency: NC Arboretum Campus Police>, <Agency: State Capitol Police>]"
      ]
     },
     "execution_count": 36,
     "metadata": {},
     "output_type": "execute_result"
    }
   ],
   "source": [
    "Agency.objects.filter(name__icontains='Police').exclude(name__icontains='Department')"
   ]
  },
  {
   "cell_type": "code",
   "execution_count": 46,
   "metadata": {
    "collapsed": false
   },
   "outputs": [
    {
     "data": {
      "text/plain": [
       "[<Agency: Appalachian State University Police Department>,\n",
       " <Agency: Brunswick Community College>,\n",
       " <Agency: East Carolina University Police Department>,\n",
       " <Agency: Elizabeth City State University Police Department>,\n",
       " <Agency: Fayetteville State University Police Department>,\n",
       " <Agency: Guilford Technical Community College>,\n",
       " <Agency: NC A&T University Police Department>,\n",
       " <Agency: NC Central University Police Department>,\n",
       " <Agency: NC State University Police Department>,\n",
       " <Agency: UNC Asheville University Police Department>,\n",
       " <Agency: UNC Chapel Hill University Police Department>,\n",
       " <Agency: UNC Charlotte University Police Department>,\n",
       " <Agency: UNC Greensboro University Police Department>,\n",
       " <Agency: UNC Pembroke University Police Department>,\n",
       " <Agency: Western Carolina University Police Department>,\n",
       " <Agency: Winston-Salem State University Police Department>]"
      ]
     },
     "execution_count": 46,
     "metadata": {},
     "output_type": "execute_result"
    }
   ],
   "source": [
    "list(Agency.objects.filter(Q(name__icontains='College') | Q(name__icontains='University')))"
   ]
  },
  {
   "cell_type": "code",
   "execution_count": null,
   "metadata": {
    "collapsed": true
   },
   "outputs": [],
   "source": []
  }
 ],
 "metadata": {
  "kernelspec": {
   "display_name": "Django Shell-Plus",
   "language": "python",
   "name": "django_extensions"
  },
  "language_info": {
   "codemirror_mode": {
    "name": "ipython",
    "version": 3
   },
   "file_extension": ".py",
   "mimetype": "text/x-python",
   "name": "python",
   "nbconvert_exporter": "python",
   "pygments_lexer": "ipython3",
   "version": "3.4.3"
  }
 },
 "nbformat": 4,
 "nbformat_minor": 0
}
