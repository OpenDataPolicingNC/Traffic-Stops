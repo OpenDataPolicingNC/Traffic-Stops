{
 "cells": [
  {
   "cell_type": "code",
   "execution_count": 24,
   "metadata": {
    "collapsed": false
   },
   "outputs": [],
   "source": [
    "from django.db.models import Q, Count, Sum\n",
    "from django.db import connections\n",
    "from nc.models import Agency, Stop"
   ]
  },
  {
   "cell_type": "code",
   "execution_count": 2,
   "metadata": {
    "collapsed": false
   },
   "outputs": [
    {
     "data": {
      "text/plain": [
       "311"
      ]
     },
     "execution_count": 2,
     "metadata": {},
     "output_type": "execute_result"
    }
   ],
   "source": [
    "Agency.objects.count()"
   ]
  },
  {
   "cell_type": "code",
   "execution_count": 3,
   "metadata": {
    "collapsed": false
   },
   "outputs": [
    {
     "data": {
      "text/plain": [
       "99"
      ]
     },
     "execution_count": 3,
     "metadata": {},
     "output_type": "execute_result"
    }
   ],
   "source": [
    "sheriff = Agency.objects.filter(name__icontains='Sheriff')\n",
    "sheriff.count()"
   ]
  },
  {
   "cell_type": "code",
   "execution_count": 4,
   "metadata": {
    "collapsed": false
   },
   "outputs": [
    {
     "data": {
      "text/plain": [
       "201"
      ]
     },
     "execution_count": 4,
     "metadata": {},
     "output_type": "execute_result"
    }
   ],
   "source": [
    "police = Agency.objects.filter(name__icontains='Police')\n",
    "police.count()"
   ]
  },
  {
   "cell_type": "code",
   "execution_count": 5,
   "metadata": {
    "collapsed": false
   },
   "outputs": [
    {
     "data": {
      "text/plain": [
       "[<Agency: Brunswick Community College>,\n",
       " <Agency: Butner Public Safety>,\n",
       " <Agency: Fairmont Department of Public Safety>,\n",
       " <Agency: Guilford Technical Community College>,\n",
       " <Agency: NC Alcohol Law Enforcement>,\n",
       " <Agency: NC Division of Motor Vehicles, License and Theft Bureau>,\n",
       " <Agency: NC State Bureau of Investigation>,\n",
       " <Agency: NC State Highway Patrol>,\n",
       " <Agency: NC State Parks>,\n",
       " <Agency: NC Wildlife Enforcement>,\n",
       " <Agency: SHP - Motor Carrier Enforcement Section>]"
      ]
     },
     "execution_count": 5,
     "metadata": {},
     "output_type": "execute_result"
    }
   ],
   "source": [
    "list(Agency.objects.exclude(id__in=police).exclude(id__in=sheriff))"
   ]
  },
  {
   "cell_type": "code",
   "execution_count": 15,
   "metadata": {
    "collapsed": false
   },
   "outputs": [
    {
     "data": {
      "text/plain": [
       "[<Agency: Appalachian State University Police Department>,\n",
       " <Agency: Brunswick Community College>,\n",
       " <Agency: East Carolina University Police Department>,\n",
       " <Agency: Elizabeth City State University Police Department>,\n",
       " <Agency: Fayetteville State University Police Department>,\n",
       " <Agency: Guilford Technical Community College>,\n",
       " <Agency: NC A&T University Police Department>,\n",
       " <Agency: NC Central University Police Department>,\n",
       " <Agency: NC State University Police Department>,\n",
       " <Agency: UNC Asheville University Police Department>,\n",
       " <Agency: UNC Chapel Hill University Police Department>,\n",
       " <Agency: UNC Charlotte University Police Department>,\n",
       " <Agency: UNC Greensboro University Police Department>,\n",
       " <Agency: UNC Pembroke University Police Department>,\n",
       " <Agency: Western Carolina University Police Department>,\n",
       " <Agency: Winston-Salem State University Police Department>]"
      ]
     },
     "execution_count": 15,
     "metadata": {},
     "output_type": "execute_result"
    }
   ],
   "source": [
    "list(Agency.objects.filter(Q(name__icontains='College') | Q(name__icontains='University')))"
   ]
  },
  {
   "cell_type": "code",
   "execution_count": 10,
   "metadata": {
    "collapsed": false
   },
   "outputs": [
    {
     "data": {
      "text/plain": [
       "18819973"
      ]
     },
     "execution_count": 10,
     "metadata": {},
     "output_type": "execute_result"
    }
   ],
   "source": [
    "Stop.objects.count()"
   ]
  },
  {
   "cell_type": "code",
   "execution_count": 22,
   "metadata": {
    "collapsed": false
   },
   "outputs": [
    {
     "data": {
      "text/plain": [
       "[('NC State Highway Patrol', 8827911),\n",
       " ('Charlotte-Mecklenburg Police Department', 1463331),\n",
       " ('Raleigh Police Department', 786806),\n",
       " ('Greensboro Police Department', 525818),\n",
       " ('Fayetteville Police Department', 426245),\n",
       " ('Winston-Salem Police Department', 424051),\n",
       " ('High Point Police Department', 262248),\n",
       " ('Durham Police Department', 254197),\n",
       " ('Cary Police Department', 204872),\n",
       " ('Wilmington Police Department', 162884)]"
      ]
     },
     "execution_count": 22,
     "metadata": {},
     "output_type": "execute_result"
    }
   ],
   "source": [
    "top_ten_agencies = Agency.objects.annotate(total_stops=Count('stops')).values_list('name', 'total_stops').order_by('-total_stops')[:10]\n",
    "list(top_ten_agencies)"
   ]
  },
  {
   "cell_type": "code",
   "execution_count": 23,
   "metadata": {
    "collapsed": false
   },
   "outputs": [
    {
     "data": {
      "text/plain": [
       "{'total_stops__sum': 13338363}"
      ]
     },
     "execution_count": 23,
     "metadata": {},
     "output_type": "execute_result"
    }
   ],
   "source": [
    "top_ten_agencies.aggregate(Sum('total_stops'))"
   ]
  },
  {
   "cell_type": "code",
   "execution_count": 2,
   "metadata": {
    "collapsed": false
   },
   "outputs": [
    {
     "data": {
      "text/plain": [
       "8827911"
      ]
     },
     "execution_count": 2,
     "metadata": {},
     "output_type": "execute_result"
    }
   ],
   "source": [
    "state_highway_patrol = Agency.objects.get(name='NC State Highway Patrol')\n",
    "state_highway_patrol.stops.count()"
   ]
  },
  {
   "cell_type": "code",
   "execution_count": 32,
   "metadata": {
    "collapsed": false
   },
   "outputs": [
    {
     "data": {
      "text/plain": [
       "[(2014, 1429490),\n",
       " (2013, 1534460),\n",
       " (2012, 1606434),\n",
       " (2011, 1729708),\n",
       " (2010, 1723909),\n",
       " (2009, 1436964),\n",
       " (2008, 1370693),\n",
       " (2007, 1435327),\n",
       " (2006, 953488),\n",
       " (2005, 961000),\n",
       " (2004, 1010310),\n",
       " (2003, 1089837),\n",
       " (2002, 1314200),\n",
       " (2001, 588960),\n",
       " (2000, 635193)]"
      ]
     },
     "execution_count": 32,
     "metadata": {},
     "output_type": "execute_result"
    }
   ],
   "source": [
    "year = connections[Stop.objects.db].ops.date_trunc_sql('year', 'date')\n",
    "qs = Stop.objects.extra(select={'year': year})\n",
    "qs = qs.values('year').annotate(total_stops=Count('date')).order_by('-year')\n",
    "summary = [(row['year'].year, row['total_stops']) for row in list(qs)]\n",
    "summary"
   ]
  },
  {
   "cell_type": "code",
   "execution_count": null,
   "metadata": {
    "collapsed": true
   },
   "outputs": [],
   "source": []
  }
 ],
 "metadata": {
  "kernelspec": {
   "display_name": "Django Shell-Plus",
   "language": "python",
   "name": "django_extensions"
  },
  "language_info": {
   "codemirror_mode": {
    "name": "ipython",
    "version": 3
   },
   "file_extension": ".py",
   "mimetype": "text/x-python",
   "name": "python",
   "nbconvert_exporter": "python",
   "pygments_lexer": "ipython3",
   "version": "3.4.3"
  }
 },
 "nbformat": 4,
 "nbformat_minor": 0
}
