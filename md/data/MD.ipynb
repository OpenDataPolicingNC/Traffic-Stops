{
 "cells": [
  {
   "cell_type": "markdown",
   "metadata": {},
   "source": [
    "Maryland Data Exploration\n",
    "==============\n",
    "\n",
    "Pandas reference links:\n",
    "\n",
    "* http://pbpython.com/simple-graphing-pandas.html\n",
    "* http://chrisalbon.com/python/pandas_time_series_basics.html\n",
    "* http://www.swegler.com/becky/blog/2014/08/06/useful-pandas-snippets/"
   ]
  },
  {
   "cell_type": "code",
   "execution_count": 1,
   "metadata": {
    "collapsed": false
   },
   "outputs": [],
   "source": [
    "import datetime\n",
    "import pandas as pd\n",
    "%matplotlib inline\n",
    "import matplotlib.pyplot as pyplot"
   ]
  },
  {
   "cell_type": "code",
   "execution_count": 2,
   "metadata": {
    "collapsed": true
   },
   "outputs": [],
   "source": [
    "parser = lambda x: datetime.strptime(x, '%Y-%m-%d %H:%M:%S')"
   ]
  },
  {
   "cell_type": "code",
   "execution_count": 3,
   "metadata": {
    "collapsed": false
   },
   "outputs": [],
   "source": [
    "df = pd.read_excel('/home/copelco/Desktop/MD/2013.xlsx',\n",
    "                   parse_dates={'datetime': ['Date of Stop']})"
   ]
  },
  {
   "cell_type": "code",
   "execution_count": 7,
   "metadata": {
    "collapsed": false
   },
   "outputs": [
    {
     "data": {
      "text/plain": [
       "['datetime',\n",
       " 'Location',\n",
       " 'Agency',\n",
       " 'Gender',\n",
       " 'DOB',\n",
       " 'Age at the time of stop',\n",
       " 'Unnamed: 7',\n",
       " 'Race',\n",
       " 'State of Residence',\n",
       " 'Registration (tag)',\n",
       " 'State of Registration',\n",
       " 'County of Residence',\n",
       " 'Stop Reason (Abbreviated)',\n",
       " 'Stop Reason',\n",
       " 'Search',\n",
       " 'Search Reason',\n",
       " 'Disposition',\n",
       " 'Outcome',\n",
       " 'Arrest Reason',\n",
       " 'Arrest Made',\n",
       " 'Search Conducted',\n",
       " 'Duration of Search (in minutes)',\n",
       " 'Duration of Stop      (in minutes)',\n",
       " 'Reason for Search or Stop Article',\n",
       " 'Reason for Search  or Stop Section',\n",
       " 'Reason for Search or Stop Sub-Section',\n",
       " 'Reason for Search or Stop Paragraph',\n",
       " 'Crime Charged Article',\n",
       " 'Crime Charged Section',\n",
       " 'Crime Charged Sub-Section',\n",
       " 'Crime Charged Paragraph']"
      ]
     },
     "execution_count": 7,
     "metadata": {},
     "output_type": "execute_result"
    }
   ],
   "source": [
    "list(df.columns.values)"
   ]
  },
  {
   "cell_type": "code",
   "execution_count": 65,
   "metadata": {
    "collapsed": false
   },
   "outputs": [
    {
     "data": {
      "text/plain": [
       "760613"
      ]
     },
     "execution_count": 65,
     "metadata": {},
     "output_type": "execute_result"
    }
   ],
   "source": [
    "len(df.index)"
   ]
  },
  {
   "cell_type": "code",
   "execution_count": 4,
   "metadata": {
    "collapsed": false
   },
   "outputs": [
    {
     "data": {
      "text/plain": [
       "Maryland State Police                                           208301\n",
       "Baltimore Police Department                                      80308\n",
       "Baltimore County Police Department                               72651\n",
       "Montgomery County Police Department                              54647\n",
       "Maryland Transportation Authority Police                         52497\n",
       "Prince George's County Police Department                         40956\n",
       "Anne Arundel County Police Department                            38590\n",
       "Howard County Police Department                                  27433\n",
       "Frederick Police Department                                      19840\n",
       "Ocean City Police Department                                     13703\n",
       "Charles County Sheriff's Office                                   9246\n",
       "Harford County Sheriff's Office                                   9240\n",
       "University of Maryland College Park Police                        8194\n",
       "Greenbelt Police Department                                       7024\n",
       "Carroll County Sheriff's Office                                   6083\n",
       "Calvert County Sheriff's Office                                   5397\n",
       "Laurel Police Department                                          5198\n",
       "Gaithersburg Police Department                                    4828\n",
       "Washington County Sheriff's Office                                4567\n",
       "Maryland National Capital Park Police Montgomery County           4483\n",
       "Annapolis Police Department                                       4249\n",
       "Rockville Police Department                                       4145\n",
       "Westminster Police Department                                     4048\n",
       "Saint Mary's County Sheriff's Office                              3828\n",
       "Bowie Police Department                                           3459\n",
       "Maryland National Capital Park Police Prince George's County      3100\n",
       "Wicomico County Sheriff's Office                                  3032\n",
       "Fruitland Police Department                                       2812\n",
       "Cecil County Sheriff's Office                                     2772\n",
       "Easton Police Department                                          2687\n",
       "                                                                 ...  \n",
       "Hampstead Police Department                                        210\n",
       "Delmar Police Department                                           186\n",
       "Montgomery County Sheriff's Office                                 183\n",
       "Department of General Services                                     183\n",
       "Upper Marlboro Police Department                                   163\n",
       "St. Michaels Police Department                                     152\n",
       "University Park Police                                             142\n",
       "Allegany County Sheriff's Office                                   141\n",
       "Bladensburg Police Department                                      137\n",
       "Comptroller of Maryland                                            133\n",
       "Capitol Heights Police Department                                  133\n",
       "Baltimore City School Police                                       129\n",
       "University of Maryland Eastern Shore Police                        113\n",
       "District Heights Police Department                                 104\n",
       "Smithsburg Police Department                                       102\n",
       "Greensboro Police Department                                       100\n",
       "University of Baltimore Police Department                           96\n",
       "Rock Hall Police Department                                         81\n",
       "Colmar Police Department                                            64\n",
       "Anne Arundel County Sheriff's Office                                50\n",
       "Maryland Motor Vehicle Administration                               39\n",
       "Oxford Police Department                                            35\n",
       "Salisbury University Police Department                              26\n",
       "Howard County Sheriff's Office                                      13\n",
       "Manchester Police Department                                        10\n",
       "Bowie State University Police Department                             7\n",
       "Trappe Police Department                                             5\n",
       "Department of Health and Mental Hygiene                              4\n",
       "Oakland Police Department                                            2\n",
       "Brunswick Police Department                                          1\n",
       "Name: Agency, dtype: int64"
      ]
     },
     "execution_count": 4,
     "metadata": {},
     "output_type": "execute_result"
    }
   ],
   "source": [
    "df.Agency.value_counts()"
   ]
  },
  {
   "cell_type": "code",
   "execution_count": 25,
   "metadata": {
    "collapsed": false
   },
   "outputs": [
    {
     "data": {
      "text/plain": [
       "23079"
      ]
     },
     "execution_count": 25,
     "metadata": {},
     "output_type": "execute_result"
    }
   ],
   "source": [
    "is_search = df['Search'].notnull()\n",
    "len(df[is_search].index)"
   ]
  },
  {
   "cell_type": "code",
   "execution_count": 49,
   "metadata": {
    "collapsed": false
   },
   "outputs": [
    {
     "data": {
      "text/plain": [
       "Agency\n",
       "Montgomery County Police Department                             3053\n",
       "Baltimore County Police Department                              2893\n",
       "Maryland State Police                                           2720\n",
       "Howard County Police Department                                 1920\n",
       "Prince George's County Police Department                        1698\n",
       "Anne Arundel County Police Department                           1667\n",
       "Ocean City Police Department                                    1038\n",
       "Maryland Transportation Authority Police                         777\n",
       "Frederick Police Department                                      661\n",
       "Charles County Sheriff's Office                                  580\n",
       "Harford County Sheriff's Office                                  461\n",
       "Cecil County Sheriff's Office                                    315\n",
       "Annapolis Police Department                                      315\n",
       "Laurel Police Department                                         308\n",
       "Calvert County Sheriff's Office                                  277\n",
       "University of Maryland College Park Police                       250\n",
       "Baltimore Police Department                                      244\n",
       "Greenbelt Police Department                                      221\n",
       "Cambridge Police Department                                      212\n",
       "Westminster Police Department                                    211\n",
       "Fruitland Police Department                                      181\n",
       "Wicomico County Sheriff's Office                                 180\n",
       "Gaithersburg Police Department                                   179\n",
       "Maryland National Capital Park Police Montgomery County          144\n",
       "Washington County Sheriff's Office                               134\n",
       "Elkton Police Department                                         131\n",
       "Maryland National Capital Park Police Prince George's County     106\n",
       "Riverdale Police Department                                       99\n",
       "Cumberland Police Department                                      94\n",
       "Rockville Police Department                                       90\n",
       "                                                                ... \n",
       "Hurlock Police Department                                         16\n",
       "Frostburg State University                                        14\n",
       "Talbot County Sheriff's Office                                    13\n",
       "Snow Hill Police Department                                       11\n",
       "Coppin State University Police                                    10\n",
       "Maryland Transit Administration                                    9\n",
       "Chevy Chase Village Police Department                              8\n",
       "Bel Air Police Department                                          7\n",
       "Montgomery County Sheriff's Office                                 7\n",
       "Allegany County Sheriff's Office                                   6\n",
       "Hampstead Police Department                                        6\n",
       "Ridgley Police Department                                          6\n",
       "St. Michaels Police Department                                     5\n",
       "Capitol Heights Police Department                                  5\n",
       "Colmar Police Department                                           5\n",
       "District Heights Police Department                                 5\n",
       "Anne Arundel County Sheriff's Office                               5\n",
       "Boonsboro Police Department                                        5\n",
       "Berwyn Heights Police Department                                   4\n",
       "University of Maryland Baltimore Police                            4\n",
       "Department of General Services                                     3\n",
       "Crofton Police Department                                          3\n",
       "Ocean Pines Police Department                                      3\n",
       "Frostburg City Police Department                                   2\n",
       "University Park Police                                             1\n",
       "Manchester Police Department                                       1\n",
       "Rock Hall Police Department                                        1\n",
       "University of Maryland Eastern Shore Police                        1\n",
       "Upper Marlboro Police Department                                   1\n",
       "Greensboro Police Department                                       1\n",
       "Name: Agency, dtype: int64"
      ]
     },
     "execution_count": 49,
     "metadata": {},
     "output_type": "execute_result"
    }
   ],
   "source": [
    "df[is_search].groupby(df.Agency)['Agency'].count().sort_values(ascending=False)"
   ]
  },
  {
   "cell_type": "code",
   "execution_count": 50,
   "metadata": {
    "collapsed": false
   },
   "outputs": [
    {
     "data": {
      "text/plain": [
       "0.03034263153535372"
      ]
     },
     "execution_count": 50,
     "metadata": {},
     "output_type": "execute_result"
    }
   ],
   "source": [
    "len(df[is_search].index)/len(df.index)"
   ]
  },
  {
   "cell_type": "code",
   "execution_count": 10,
   "metadata": {
    "collapsed": false
   },
   "outputs": [
    {
     "data": {
      "text/plain": [
       "array(['sero', 'warn', 'cit', 'arr', nan], dtype=object)"
      ]
     },
     "execution_count": 10,
     "metadata": {},
     "output_type": "execute_result"
    }
   ],
   "source": [
    "df.Race.unique()"
   ]
  },
  {
   "cell_type": "code",
   "execution_count": 11,
   "metadata": {
    "collapsed": false
   },
   "outputs": [
    {
     "data": {
      "text/plain": [
       "array(['sero', 'warn', 'cit', 'arr', nan], dtype=object)"
      ]
     },
     "execution_count": 11,
     "metadata": {},
     "output_type": "execute_result"
    }
   ],
   "source": [
    "df.Outcome.unique()"
   ]
  },
  {
   "cell_type": "code",
   "execution_count": 12,
   "metadata": {
    "collapsed": false
   },
   "outputs": [
    {
     "data": {
      "text/plain": [
       "array([nan, 'both', 'prop', 'pers', '   '], dtype=object)"
      ]
     },
     "execution_count": 12,
     "metadata": {},
     "output_type": "execute_result"
    }
   ],
   "source": [
    "df.Search.unique()"
   ]
  },
  {
   "cell_type": "code",
   "execution_count": 13,
   "metadata": {
    "collapsed": false
   },
   "outputs": [
    {
     "data": {
      "text/plain": [
       "array([nan, 'none', 'contra', 'both', 'prop'], dtype=object)"
      ]
     },
     "execution_count": 13,
     "metadata": {},
     "output_type": "execute_result"
    }
   ],
   "source": [
    "df.Disposition.unique()"
   ]
  },
  {
   "cell_type": "code",
   "execution_count": 45,
   "metadata": {
    "collapsed": false
   },
   "outputs": [
    {
     "data": {
      "text/plain": [
       "array(['Maryland National Capital Park Police Montgomery County',\n",
       "       'Montgomery County Police Department',\n",
       "       \"Montgomery County Sheriff's Office\"], dtype=object)"
      ]
     },
     "execution_count": 45,
     "metadata": {},
     "output_type": "execute_result"
    }
   ],
   "source": [
    "df[df['Agency'].str.contains('Montgomery')]['Agency'].unique()"
   ]
  },
  {
   "cell_type": "code",
   "execution_count": 6,
   "metadata": {
    "collapsed": false
   },
   "outputs": [],
   "source": [
    "in_montgomery = df['Agency'] == 'Montgomery County Police Department'\n",
    "missing_race = df['Race'].isnull()\n",
    "did_search = df.Search.notnull()\n",
    "valid_time_value = df.datetime.dt.time > datetime.time(0, 0)"
   ]
  },
  {
   "cell_type": "code",
   "execution_count": 67,
   "metadata": {
    "collapsed": false
   },
   "outputs": [
    {
     "data": {
      "text/plain": [
       "54647"
      ]
     },
     "execution_count": 67,
     "metadata": {},
     "output_type": "execute_result"
    }
   ],
   "source": [
    "len(df[in_montgomery].index)"
   ]
  },
  {
   "cell_type": "code",
   "execution_count": 38,
   "metadata": {
    "collapsed": false
   },
   "outputs": [
    {
     "data": {
      "text/plain": [
       "13"
      ]
     },
     "execution_count": 38,
     "metadata": {},
     "output_type": "execute_result"
    }
   ],
   "source": [
    "len(df[in_montgomery & missing_race].index)"
   ]
  },
  {
   "cell_type": "code",
   "execution_count": 39,
   "metadata": {
    "collapsed": false
   },
   "outputs": [
    {
     "data": {
      "text/plain": [
       "w    21795\n",
       "b    16802\n",
       "h     9455\n",
       "a     3617\n",
       "o     2944\n",
       "u       21\n",
       "Name: Race, dtype: int64"
      ]
     },
     "execution_count": 39,
     "metadata": {},
     "output_type": "execute_result"
    }
   ],
   "source": [
    "df[in_montgomery].Race.value_counts()"
   ]
  },
  {
   "cell_type": "code",
   "execution_count": 40,
   "metadata": {
    "collapsed": false
   },
   "outputs": [
    {
     "data": {
      "text/plain": [
       "54634"
      ]
     },
     "execution_count": 40,
     "metadata": {},
     "output_type": "execute_result"
    }
   ],
   "source": [
    "df[in_montgomery].Race.value_counts().sum()"
   ]
  },
  {
   "cell_type": "code",
   "execution_count": 41,
   "metadata": {
    "collapsed": false,
    "scrolled": true
   },
   "outputs": [
    {
     "data": {
      "text/plain": [
       "3053"
      ]
     },
     "execution_count": 41,
     "metadata": {},
     "output_type": "execute_result"
    }
   ],
   "source": [
    "df[in_montgomery].Search.count()"
   ]
  },
  {
   "cell_type": "code",
   "execution_count": 42,
   "metadata": {
    "collapsed": false
   },
   "outputs": [
    {
     "data": {
      "text/plain": [
       "0.055880953252553357"
      ]
     },
     "execution_count": 42,
     "metadata": {},
     "output_type": "execute_result"
    }
   ],
   "source": [
    "df[in_montgomery].Search.count()/df[in_montgomery].Race.value_counts().sum()"
   ]
  },
  {
   "cell_type": "code",
   "execution_count": 43,
   "metadata": {
    "collapsed": false
   },
   "outputs": [
    {
     "data": {
      "text/plain": [
       "both    2141\n",
       "prop     540\n",
       "pers     372\n",
       "Name: Search, dtype: int64"
      ]
     },
     "execution_count": 43,
     "metadata": {},
     "output_type": "execute_result"
    }
   ],
   "source": [
    "df[in_montgomery].Search.value_counts()"
   ]
  },
  {
   "cell_type": "code",
   "execution_count": 44,
   "metadata": {
    "collapsed": false
   },
   "outputs": [
    {
     "data": {
      "text/plain": [
       "b    1204\n",
       "w    1042\n",
       "h     651\n",
       "a      86\n",
       "o      70\n",
       "Name: Race, dtype: int64"
      ]
     },
     "execution_count": 44,
     "metadata": {},
     "output_type": "execute_result"
    }
   ],
   "source": [
    "df[in_montgomery & did_search].Race.value_counts()"
   ]
  },
  {
   "cell_type": "code",
   "execution_count": 51,
   "metadata": {
    "collapsed": false
   },
   "outputs": [
    {
     "data": {
      "text/plain": [
       "3053"
      ]
     },
     "execution_count": 51,
     "metadata": {},
     "output_type": "execute_result"
    }
   ],
   "source": [
    "df[in_montgomery & did_search].Race.value_counts().sum()"
   ]
  },
  {
   "cell_type": "code",
   "execution_count": 52,
   "metadata": {
    "collapsed": false
   },
   "outputs": [
    {
     "data": {
      "text/plain": [
       "<matplotlib.text.Text at 0x7fc62a307e48>"
      ]
     },
     "execution_count": 52,
     "metadata": {},
     "output_type": "execute_result"
    },
    {
     "data": {
      "image/png": "[encoded data removed]",
      "text/plain": [
       "<matplotlib.figure.Figure at 0x7fc62a242160>"
      ]
     },
     "metadata": {},
     "output_type": "display_data"
    }
   ],
   "source": [
    "p = df[in_montgomery & valid_time_value]['datetime'].groupby(df.datetime.dt.hour).count().plot(kind='bar',\n",
    "                                                                                               title=\"Montgomery Hour of Day Stops\")\n",
    "p.set_xlabel(\"Hour of the Day\")\n",
    "p.set_ylabel(\"Stops\")"
   ]
  },
  {
   "cell_type": "code",
   "execution_count": 53,
   "metadata": {
    "collapsed": false
   },
   "outputs": [
    {
     "data": {
      "text/plain": [
       "<matplotlib.text.Text at 0x7fc629b6b2e8>"
      ]
     },
     "execution_count": 53,
     "metadata": {},
     "output_type": "execute_result"
    },
    {
     "data": {
      "image/png": "[encoded data removed]",
      "text/plain": [
       "<matplotlib.figure.Figure at 0x7fc629a51b38>"
      ]
     },
     "metadata": {},
     "output_type": "display_data"
    }
   ],
   "source": [
    "p = df[in_montgomery & valid_time_value].groupby(pd.Grouper(key='datetime', freq='1M')).count()['Location'].plot(kind='bar',\n",
    "                                                                                                                 title=\"Montgomery Stops By Month\")\n",
    "p.set_xlabel(\"Month\")\n",
    "p.set_ylabel(\"Stops\")"
   ]
  },
  {
   "cell_type": "code",
   "execution_count": 63,
   "metadata": {
    "collapsed": false
   },
   "outputs": [
    {
     "data": {
      "text/plain": [
       "<matplotlib.axes._subplots.AxesSubplot at 0x7fc62a41e320>"
      ]
     },
     "execution_count": 63,
     "metadata": {},
     "output_type": "execute_result"
    },
    {
     "data": {
      "image/png": "[encoded data removed]",
      "text/plain": [
       "<matplotlib.figure.Figure at 0x7fc62a422160>"
      ]
     },
     "metadata": {},
     "output_type": "display_data"
    }
   ],
   "source": [
    "df[in_montgomery & valid_time_value].groupby([pd.Grouper(key='datetime', freq='1M'), 'Race'])['Race'].count().plot(kind='bar')"
   ]
  },
  {
   "cell_type": "code",
   "execution_count": null,
   "metadata": {
    "collapsed": true
   },
   "outputs": [],
   "source": []
  }
 ],
 "metadata": {
  "kernelspec": {
   "display_name": "Python 3",
   "language": "python",
   "name": "python3"
  },
  "language_info": {
   "codemirror_mode": {
    "name": "ipython",
    "version": 3
   },
   "file_extension": ".py",
   "mimetype": "text/x-python",
   "name": "python",
   "nbconvert_exporter": "python",
   "pygments_lexer": "ipython3",
   "version": "3.4.3"
  }
 },
 "nbformat": 4,
 "nbformat_minor": 0
}
