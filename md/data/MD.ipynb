{
 "cells": [
  {
   "cell_type": "code",
   "execution_count": 2,
   "metadata": {
    "collapsed": false
   },
   "outputs": [],
   "source": [
    "import pandas as pd"
   ]
  },
  {
   "cell_type": "code",
   "execution_count": 3,
   "metadata": {
    "collapsed": true
   },
   "outputs": [],
   "source": [
    "df = pd.read_excel('/home/copelco/Desktop/MD/2013.xlsx')"
   ]
  },
  {
   "cell_type": "code",
   "execution_count": 47,
   "metadata": {
    "collapsed": false
   },
   "outputs": [
    {
     "data": {
      "text/plain": [
       "760613"
      ]
     },
     "execution_count": 47,
     "metadata": {},
     "output_type": "execute_result"
    }
   ],
   "source": [
    "len(df.index)"
   ]
  },
  {
   "cell_type": "code",
   "execution_count": 40,
   "metadata": {
    "collapsed": false
   },
   "outputs": [
    {
     "data": {
      "text/plain": [
       "Maryland State Police                                           208301\n",
       "Baltimore Police Department                                      80308\n",
       "Baltimore County Police Department                               72651\n",
       "Montgomery County Police Department                              54647\n",
       "Maryland Transportation Authority Police                         52497\n",
       "Prince George's County Police Department                         40956\n",
       "Anne Arundel County Police Department                            38590\n",
       "Howard County Police Department                                  27433\n",
       "Frederick Police Department                                      19840\n",
       "Ocean City Police Department                                     13703\n",
       "Charles County Sheriff's Office                                   9246\n",
       "Harford County Sheriff's Office                                   9240\n",
       "University of Maryland College Park Police                        8194\n",
       "Greenbelt Police Department                                       7024\n",
       "Carroll County Sheriff's Office                                   6083\n",
       "Calvert County Sheriff's Office                                   5397\n",
       "Laurel Police Department                                          5198\n",
       "Gaithersburg Police Department                                    4828\n",
       "Washington County Sheriff's Office                                4567\n",
       "Maryland National Capital Park Police Montgomery County           4483\n",
       "Annapolis Police Department                                       4249\n",
       "Rockville Police Department                                       4145\n",
       "Westminster Police Department                                     4048\n",
       "Saint Mary's County Sheriff's Office                              3828\n",
       "Bowie Police Department                                           3459\n",
       "Maryland National Capital Park Police Prince George's County      3100\n",
       "Wicomico County Sheriff's Office                                  3032\n",
       "Fruitland Police Department                                       2812\n",
       "Cecil County Sheriff's Office                                     2772\n",
       "Easton Police Department                                          2687\n",
       "                                                                 ...  \n",
       "Hampstead Police Department                                        210\n",
       "Delmar Police Department                                           186\n",
       "Department of General Services                                     183\n",
       "Montgomery County Sheriff's Office                                 183\n",
       "Upper Marlboro Police Department                                   163\n",
       "St. Michaels Police Department                                     152\n",
       "University Park Police                                             142\n",
       "Allegany County Sheriff's Office                                   141\n",
       "Bladensburg Police Department                                      137\n",
       "Comptroller of Maryland                                            133\n",
       "Capitol Heights Police Department                                  133\n",
       "Baltimore City School Police                                       129\n",
       "University of Maryland Eastern Shore Police                        113\n",
       "District Heights Police Department                                 104\n",
       "Smithsburg Police Department                                       102\n",
       "Greensboro Police Department                                       100\n",
       "University of Baltimore Police Department                           96\n",
       "Rock Hall Police Department                                         81\n",
       "Colmar Police Department                                            64\n",
       "Anne Arundel County Sheriff's Office                                50\n",
       "Maryland Motor Vehicle Administration                               39\n",
       "Oxford Police Department                                            35\n",
       "Salisbury University Police Department                              26\n",
       "Howard County Sheriff's Office                                      13\n",
       "Manchester Police Department                                        10\n",
       "Bowie State University Police Department                             7\n",
       "Trappe Police Department                                             5\n",
       "Department of Health and Mental Hygiene                              4\n",
       "Oakland Police Department                                            2\n",
       "Brunswick Police Department                                          1\n",
       "Name: Agency, dtype: int64"
      ]
     },
     "execution_count": 40,
     "metadata": {},
     "output_type": "execute_result"
    }
   ],
   "source": [
    "df.Agency.value_counts()"
   ]
  },
  {
   "cell_type": "code",
   "execution_count": 10,
   "metadata": {
    "collapsed": false
   },
   "outputs": [
    {
     "data": {
      "text/plain": [
       "array(['sero', 'warn', 'cit', 'arr', nan], dtype=object)"
      ]
     },
     "execution_count": 10,
     "metadata": {},
     "output_type": "execute_result"
    }
   ],
   "source": [
    "df.Race.unique()"
   ]
  },
  {
   "cell_type": "code",
   "execution_count": 11,
   "metadata": {
    "collapsed": false
   },
   "outputs": [
    {
     "data": {
      "text/plain": [
       "array(['sero', 'warn', 'cit', 'arr', nan], dtype=object)"
      ]
     },
     "execution_count": 11,
     "metadata": {},
     "output_type": "execute_result"
    }
   ],
   "source": [
    "df.Outcome.unique()"
   ]
  },
  {
   "cell_type": "code",
   "execution_count": 12,
   "metadata": {
    "collapsed": false
   },
   "outputs": [
    {
     "data": {
      "text/plain": [
       "array([nan, 'both', 'prop', 'pers', '   '], dtype=object)"
      ]
     },
     "execution_count": 12,
     "metadata": {},
     "output_type": "execute_result"
    }
   ],
   "source": [
    "df.Search.unique()"
   ]
  },
  {
   "cell_type": "code",
   "execution_count": 13,
   "metadata": {
    "collapsed": false
   },
   "outputs": [
    {
     "data": {
      "text/plain": [
       "array([nan, 'none', 'contra', 'both', 'prop'], dtype=object)"
      ]
     },
     "execution_count": 13,
     "metadata": {},
     "output_type": "execute_result"
    }
   ],
   "source": [
    "df.Disposition.unique()"
   ]
  },
  {
   "cell_type": "code",
   "execution_count": 45,
   "metadata": {
    "collapsed": false
   },
   "outputs": [
    {
     "data": {
      "text/plain": [
       "array(['Maryland National Capital Park Police Montgomery County',\n",
       "       'Montgomery County Police Department',\n",
       "       \"Montgomery County Sheriff's Office\"], dtype=object)"
      ]
     },
     "execution_count": 45,
     "metadata": {},
     "output_type": "execute_result"
    }
   ],
   "source": [
    "df[df['Agency'].str.contains('Montgomery')]['Agency'].unique()"
   ]
  },
  {
   "cell_type": "code",
   "execution_count": 112,
   "metadata": {
    "collapsed": true
   },
   "outputs": [],
   "source": [
    "in_montgomery = df['Agency'] == 'Montgomery County Police Department'\n",
    "missing_race = df['Race'].isnull()\n",
    "did_search = df.Search.notnull()"
   ]
  },
  {
   "cell_type": "code",
   "execution_count": 106,
   "metadata": {
    "collapsed": false
   },
   "outputs": [
    {
     "data": {
      "text/plain": [
       "54647"
      ]
     },
     "execution_count": 106,
     "metadata": {},
     "output_type": "execute_result"
    }
   ],
   "source": [
    "len(df[in_montgomery].index)"
   ]
  },
  {
   "cell_type": "code",
   "execution_count": 109,
   "metadata": {
    "collapsed": false
   },
   "outputs": [
    {
     "data": {
      "text/plain": [
       "13"
      ]
     },
     "execution_count": 109,
     "metadata": {},
     "output_type": "execute_result"
    }
   ],
   "source": [
    "len(df[in_montgomery & missing_race].index)"
   ]
  },
  {
   "cell_type": "code",
   "execution_count": 110,
   "metadata": {
    "collapsed": false
   },
   "outputs": [
    {
     "data": {
      "text/plain": [
       "w    21795\n",
       "b    16802\n",
       "h     9455\n",
       "a     3617\n",
       "o     2944\n",
       "u       21\n",
       "Name: Race, dtype: int64"
      ]
     },
     "execution_count": 110,
     "metadata": {},
     "output_type": "execute_result"
    }
   ],
   "source": [
    "df[in_montgomery].Race.value_counts()"
   ]
  },
  {
   "cell_type": "code",
   "execution_count": 111,
   "metadata": {
    "collapsed": false
   },
   "outputs": [
    {
     "data": {
      "text/plain": [
       "54634"
      ]
     },
     "execution_count": 111,
     "metadata": {},
     "output_type": "execute_result"
    }
   ],
   "source": [
    "df[in_montgomery].Race.value_counts().sum()"
   ]
  },
  {
   "cell_type": "code",
   "execution_count": 71,
   "metadata": {
    "collapsed": false,
    "scrolled": true
   },
   "outputs": [
    {
     "data": {
      "text/plain": [
       "3053"
      ]
     },
     "execution_count": 71,
     "metadata": {},
     "output_type": "execute_result"
    }
   ],
   "source": [
    "df[in_montgomery].Search.count()"
   ]
  },
  {
   "cell_type": "code",
   "execution_count": 113,
   "metadata": {
    "collapsed": false
   },
   "outputs": [
    {
     "data": {
      "text/plain": [
       "0.055880953252553357"
      ]
     },
     "execution_count": 113,
     "metadata": {},
     "output_type": "execute_result"
    }
   ],
   "source": [
    "df[in_montgomery].Search.count()/df[in_montgomery].Race.value_counts().sum()"
   ]
  },
  {
   "cell_type": "code",
   "execution_count": 89,
   "metadata": {
    "collapsed": false
   },
   "outputs": [
    {
     "data": {
      "text/plain": [
       "both    2141\n",
       "prop     540\n",
       "pers     372\n",
       "Name: Search, dtype: int64"
      ]
     },
     "execution_count": 89,
     "metadata": {},
     "output_type": "execute_result"
    }
   ],
   "source": [
    "df[in_montgomery].Search.value_counts()"
   ]
  },
  {
   "cell_type": "code",
   "execution_count": 114,
   "metadata": {
    "collapsed": false
   },
   "outputs": [
    {
     "data": {
      "text/plain": [
       "b    1204\n",
       "w    1042\n",
       "h     651\n",
       "a      86\n",
       "o      70\n",
       "Name: Race, dtype: int64"
      ]
     },
     "execution_count": 114,
     "metadata": {},
     "output_type": "execute_result"
    }
   ],
   "source": [
    "df[in_montgomery & did_search].Race.value_counts()"
   ]
  },
  {
   "cell_type": "code",
   "execution_count": 115,
   "metadata": {
    "collapsed": false
   },
   "outputs": [
    {
     "data": {
      "text/plain": [
       "3053"
      ]
     },
     "execution_count": 115,
     "metadata": {},
     "output_type": "execute_result"
    }
   ],
   "source": [
    "df[in_montgomery & did_search].Race.value_counts().sum()"
   ]
  },
  {
   "cell_type": "code",
   "execution_count": null,
   "metadata": {
    "collapsed": true
   },
   "outputs": [],
   "source": []
  }
 ],
 "metadata": {
  "kernelspec": {
   "display_name": "Python 3",
   "language": "python",
   "name": "python3"
  },
  "language_info": {
   "codemirror_mode": {
    "name": "ipython",
    "version": 3
   },
   "file_extension": ".py",
   "mimetype": "text/x-python",
   "name": "python",
   "nbconvert_exporter": "python",
   "pygments_lexer": "ipython3",
   "version": "3.4.3"
  }
 },
 "nbformat": 4,
 "nbformat_minor": 0
}
