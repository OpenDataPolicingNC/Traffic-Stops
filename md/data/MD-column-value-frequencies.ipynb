{
 "cells": [
  {
   "cell_type": "code",
   "execution_count": null,
   "metadata": {
    "collapsed": true
   },
   "outputs": [],
   "source": [
    "# http://pbpython.com/excel-file-combine.html"
   ]
  },
  {
   "cell_type": "code",
   "execution_count": 119,
   "metadata": {
    "collapsed": true
   },
   "outputs": [],
   "source": [
    "import datetime\n",
    "import pandas as pd"
   ]
  },
  {
   "cell_type": "code",
   "execution_count": 30,
   "metadata": {
    "collapsed": false
   },
   "outputs": [],
   "source": [
    "df = pd.read_excel('/Users/copelco/Desktop/PIALog_16-0806.xlsx', sheetname=[0,1,2])"
   ]
  },
  {
   "cell_type": "code",
   "execution_count": 69,
   "metadata": {
    "collapsed": false
   },
   "outputs": [],
   "source": [
    "df[1].columns = df[0].columns\n",
    "df[2].columns = df[0].columns\n",
    "stops = df[0].append(df[1], ignore_index=True)\n",
    "stops = stops.append(df[2], ignore_index=True)"
   ]
  },
  {
   "cell_type": "code",
   "execution_count": 71,
   "metadata": {
    "collapsed": false
   },
   "outputs": [
    {
     "data": {
      "text/plain": [
       "2257860"
      ]
     },
     "execution_count": 71,
     "metadata": {},
     "output_type": "execute_result"
    }
   ],
   "source": [
    "len(stops.index)"
   ]
  },
  {
   "cell_type": "code",
   "execution_count": 97,
   "metadata": {
    "collapsed": false
   },
   "outputs": [
    {
     "data": {
      "text/plain": [
       "MSP                641952\n",
       "MONTGOMERY         230317\n",
       "BACOPD             222241\n",
       "MDTA               180312\n",
       "AACOPD             126123\n",
       "PGCOPD             123212\n",
       "HOCPD               91294\n",
       "FREDERICK           44122\n",
       "HARFORD             41243\n",
       "OCEANCITY           39378\n",
       "CHARLES             36301\n",
       "UMCP                24220\n",
       "FREDERICKPD         23380\n",
       "CARROLL             20200\n",
       "GAITHERSBURG        19971\n",
       "WASHINGTON          18526\n",
       "CALVERT             17947\n",
       "GREENBELT           16769\n",
       "LAUREL              16689\n",
       "MCPARK              16549\n",
       "ROCKVILLE           14910\n",
       "TAKOMA              14318\n",
       "EASTON              13696\n",
       "STMARYS             13193\n",
       "ANNAPOLIS           11987\n",
       "WICOMICO            11327\n",
       "WESTMINSTER         10991\n",
       "CECIL               10447\n",
       "PGPARK              10443\n",
       "BOWIE               10229\n",
       "                    ...  \n",
       "UNIVERSITYPARK        414\n",
       "ROCKHALL              407\n",
       "GREENSBORO            370\n",
       "COMPTROLLER           360\n",
       "COPPIN                347\n",
       "DELTA                 331\n",
       "SMITHSBURG            315\n",
       "DGS                   314\n",
       "BALTIMORESCHOOL       294\n",
       "SALISBURYUNIV         291\n",
       "HANCOCK               275\n",
       "UMES                  271\n",
       "BRENTWOOD             166\n",
       "COLMAR                148\n",
       "MVA                   135\n",
       "OXFORD                117\n",
       "AACCPSP               115\n",
       "AACOSHERIFF           110\n",
       "PERRYVILLE             84\n",
       "MANCHESTER             79\n",
       "FAIRMOUNT              70\n",
       "BALTSHERIFF            63\n",
       "OAKLAND                55\n",
       "PGCOSHERIFF            24\n",
       "FORTDETRICK            23\n",
       "TRAPPE                 22\n",
       "FORTMEADE              13\n",
       "BOWIEUNIV               7\n",
       "DHMH                    4\n",
       "BALTIMORE               2\n",
       "Name: AGENCY, dtype: int64"
      ]
     },
     "execution_count": 97,
     "metadata": {},
     "output_type": "execute_result"
    }
   ],
   "source": [
    "stops.AGENCY.value_counts()"
   ]
  },
  {
   "cell_type": "code",
   "execution_count": 78,
   "metadata": {
    "collapsed": false
   },
   "outputs": [],
   "source": [
    "# covert datetime column\n",
    "stops['datetime'] = pd.to_datetime(stops['STOPDATE'])"
   ]
  },
  {
   "cell_type": "code",
   "execution_count": 128,
   "metadata": {
    "collapsed": false
   },
   "outputs": [
    {
     "data": {
      "text/plain": [
       "STOPDATE                      object\n",
       "TIME_OF_STOP                  object\n",
       "LOCATION                      object\n",
       "DURATION                      object\n",
       "STOP_REASON                   object\n",
       "SEARCH_CONDUCTED              object\n",
       "SEARCH_REASON                 object\n",
       "WHATSEARCHED                  object\n",
       "SEIZED                        object\n",
       "STOPOUTCOME                   object\n",
       "CRIME_CHARGED                 object\n",
       "REGISTRATION_STATE            object\n",
       "GENDER                        object\n",
       "DOB                           object\n",
       "RESIDENCE_STATE               object\n",
       "MD_COUNTY                     object\n",
       "ETHNICITY                     object\n",
       "OFFICERID                      int64\n",
       "AGENCY                        object\n",
       "datetime              datetime64[ns]\n",
       "dtype: object"
      ]
     },
     "execution_count": 128,
     "metadata": {},
     "output_type": "execute_result"
    }
   ],
   "source": [
    "stops.dtypes"
   ]
  },
  {
   "cell_type": "code",
   "execution_count": 129,
   "metadata": {
    "collapsed": false
   },
   "outputs": [
    {
     "data": {
      "text/plain": [
       "datetime\n",
       "2012     30818\n",
       "2013    673441\n",
       "2014    747158\n",
       "2015    806443\n",
       "Name: datetime, dtype: int64"
      ]
     },
     "execution_count": 129,
     "metadata": {},
     "output_type": "execute_result"
    }
   ],
   "source": [
    "years = stops['datetime'].map(lambda x: x.year)\n",
    "stops.groupby(years)['datetime'].count()"
   ]
  },
  {
   "cell_type": "code",
   "execution_count": 132,
   "metadata": {
    "collapsed": false
   },
   "outputs": [
    {
     "data": {
      "text/plain": [
       "datetime  ETHNICITY      \n",
       "2012      ASIAN                 564\n",
       "          BLACK               11107\n",
       "          BLK                     1\n",
       "          F                       3\n",
       "          HISPANIC             2214\n",
       "          M                       8\n",
       "          NATIVE AMERICAN        37\n",
       "          OTHER                 515\n",
       "          UNKNOWN                42\n",
       "          W                       3\n",
       "          WHITE               16314\n",
       "          W`                      1\n",
       "          f                       1\n",
       "          hiq                     1\n",
       "          m                       2\n",
       "2013      ASIAN               18492\n",
       "          BLACK              241008\n",
       "          HISPANIC            47084\n",
       "          NATIVE AMERICAN      1420\n",
       "          OTHER               20185\n",
       "          UNKNOWN               494\n",
       "          WHITE              344707\n",
       "2014      ASIAN               21672\n",
       "          BLACK              268749\n",
       "          HISPANIC            57812\n",
       "          NATIVE AMERICAN      1884\n",
       "          OTHER               24647\n",
       "          UNKNOWN               338\n",
       "          WHITE              371963\n",
       "2015      ASIAN               23871\n",
       "          BLACK              287542\n",
       "          HISPANIC            67536\n",
       "          NATIVE AMERICAN      1992\n",
       "          OTHER               29206\n",
       "          UNKNOWN               186\n",
       "          WHITE              396087\n",
       "Name: ETHNICITY, dtype: int64"
      ]
     },
     "execution_count": 132,
     "metadata": {},
     "output_type": "execute_result"
    }
   ],
   "source": [
    "stops.groupby([years, stops.ETHNICITY])['ETHNICITY'].count()"
   ]
  },
  {
   "cell_type": "markdown",
   "metadata": {},
   "source": [
    "2012 looks messy ^^"
   ]
  },
  {
   "cell_type": "code",
   "execution_count": 133,
   "metadata": {
    "collapsed": false
   },
   "outputs": [
    {
     "data": {
      "text/plain": [
       "datetime  SEIZED                 \n",
       "2012      28124                          1\n",
       "          Contraband Only             2959\n",
       "          Contraband and Property      591\n",
       "          Nothing                     8554\n",
       "          Property Only                841\n",
       "          n/a                           34\n",
       "          x                              1\n",
       "2013      0                              2\n",
       "          18004                          5\n",
       "          18644                          1\n",
       "          2812                           1\n",
       "          Both                          53\n",
       "          Contraband                   363\n",
       "          Contraband Only             4659\n",
       "          Contraband and Property     1337\n",
       "          NONE                           8\n",
       "          Nothing                    13590\n",
       "          Property                      36\n",
       "          Property Only               1540\n",
       "          arrest                         1\n",
       "          impound inventory              1\n",
       "          n                              1\n",
       "          n//a                           3\n",
       "          n/a                          267\n",
       "          na                             2\n",
       "          no search                      1\n",
       "          none                          29\n",
       "          p                              1\n",
       "2014      18344                          1\n",
       "          Both                         167\n",
       "          Contraband                  1873\n",
       "          Contraband Only             3782\n",
       "          Contraband and Property     1248\n",
       "          No CDs in vehicle              1\n",
       "          Nothing                    10385\n",
       "          Property                      84\n",
       "          Property Only               1507\n",
       "          n/a                          108\n",
       "          paraphernalia                  1\n",
       "2015      Both                         148\n",
       "          Contraband                  1915\n",
       "          Contraband Only             4194\n",
       "          Contraband and Property     1483\n",
       "          Nothing                     9855\n",
       "          Property                     100\n",
       "          Property Only               1382\n",
       "          n                              1\n",
       "          non                            1\n",
       "Name: SEIZED, dtype: int64"
      ]
     },
     "execution_count": 133,
     "metadata": {},
     "output_type": "execute_result"
    }
   ],
   "source": [
    "stops.groupby([years, stops.SEIZED])['SEIZED'].count()"
   ]
  },
  {
   "cell_type": "code",
   "execution_count": 136,
   "metadata": {
    "collapsed": false
   },
   "outputs": [
    {
     "data": {
      "text/plain": [
       "datetime  STOPOUTCOME        \n",
       "2012       SERO, Warning              1\n",
       "          74                          1\n",
       "          Arrest                   5795\n",
       "          CDS ARREST                  1\n",
       "          CDS MARIJUANA               1\n",
       "          Citation                 9294\n",
       "          Citation/ARREST             1\n",
       "          ERO                         2\n",
       "          NOTHING LOCATED             1\n",
       "          RECOVERED EVIDENCE          1\n",
       "          SERO                     1396\n",
       "          SERO and Warning            1\n",
       "          SERO and Warning x2         1\n",
       "          W                           1\n",
       "          Warning                 12022\n",
       "          Warning / Citation          1\n",
       "          Warnnig                     1\n",
       "          cds located                 1\n",
       "          dui                         1\n",
       "          er                          1\n",
       "          nothing found               2\n",
       "          nothing located             1\n",
       "          x                           1\n",
       "2013      Arrest                  11828\n",
       "          Citation               229883\n",
       "          SERO                    75676\n",
       "          Warning                355993\n",
       "2014      Arrest                  11935\n",
       "          Citation               198416\n",
       "          SERO                    85886\n",
       "          Warning                419917\n",
       "2015      Arrest                  10413\n",
       "          Citation               214943\n",
       "          SERO                    85527\n",
       "          Warning                476541\n",
       "Name: STOPOUTCOME, dtype: int64"
      ]
     },
     "execution_count": 136,
     "metadata": {},
     "output_type": "execute_result"
    }
   ],
   "source": [
    "stops.groupby([years, stops.STOPOUTCOME])['STOPOUTCOME'].count()"
   ]
  },
  {
   "cell_type": "code",
   "execution_count": 134,
   "metadata": {
    "collapsed": false
   },
   "outputs": [],
   "source": [
    "BACOPD = stops.AGENCY == 'BACOPD'"
   ]
  },
  {
   "cell_type": "code",
   "execution_count": 137,
   "metadata": {
    "collapsed": false
   },
   "outputs": [
    {
     "data": {
      "text/plain": [
       "datetime\n",
       "2012     6074\n",
       "2013    72442\n",
       "2014    74776\n",
       "2015    68949\n",
       "Name: datetime, dtype: int64"
      ]
     },
     "execution_count": 137,
     "metadata": {},
     "output_type": "execute_result"
    }
   ],
   "source": [
    "stops[BACOPD].groupby(years)['datetime'].count()"
   ]
  },
  {
   "cell_type": "code",
   "execution_count": null,
   "metadata": {
    "collapsed": true
   },
   "outputs": [],
   "source": []
  }
 ],
 "metadata": {
  "kernelspec": {
   "display_name": "Python 3",
   "language": "python",
   "name": "python3"
  },
  "language_info": {
   "codemirror_mode": {
    "name": "ipython",
    "version": 3
   },
   "file_extension": ".py",
   "mimetype": "text/x-python",
   "name": "python",
   "nbconvert_exporter": "python",
   "pygments_lexer": "ipython3",
   "version": "3.4.3"
  }
 },
 "nbformat": 4,
 "nbformat_minor": 0
}
